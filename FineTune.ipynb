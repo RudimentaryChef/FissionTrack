{
 "cells": [
  {
   "cell_type": "code",
   "execution_count": 1,
   "id": "09d944c1",
   "metadata": {},
   "outputs": [
    {
     "name": "stdout",
     "output_type": "stream",
     "text": [
      "[main ca9e9ee] adds more optimizer\n",
      " 1 file changed, 131 insertions(+), 41 deletions(-)\n",
      "Enumerating objects: 5, done.\n",
      "Counting objects: 100% (5/5), done.\n",
      "Delta compression using up to 8 threads\n",
      "Compressing objects: 100% (3/3), done.\n",
      "Writing objects: 100% (3/3), 3.08 KiB | 3.08 MiB/s, done.\n",
      "Total 3 (delta 2), reused 0 (delta 0), pack-reused 0\n",
      "remote: Resolving deltas: 100% (2/2), completed with 2 local objects.\u001b[K\n",
      "To https://github.com/RudimentaryChef/FissionTrack.git\n",
      "   6082a3b..ca9e9ee  main -> main\n"
     ]
    }
   ],
   "source": [
    "!git add .\n",
    "!git commit -m \"adds more optimizer\"\n",
    "!git push"
   ]
  },
  {
   "cell_type": "code",
   "execution_count": 2,
   "id": "6a8b0af5",
   "metadata": {},
   "outputs": [],
   "source": [
    "# Install the required libraries\n",
    "#SAM\n",
    "#!pip install git+https://github.com/facebookresearch/segment-anything.git\n",
    "#Transformers\n",
    "#!pip install -q git+https://github.com/huggingface/transformers.git\n",
    "#Datasets to prepare data and monai if you want to use special loss functions\n",
    "#!pip install datasets\n",
    "#!pip install -q monai\n",
    "#Patchify to divide large images into smaller patches for training. (Not necessary for smaller images)\n",
    "#!pip install patchify\n",
    "\n",
    "#!pip install matplotlib\n",
    "\n",
    "#!pip install tifffile\n",
    "\n",
    "#!pip install scipy\n"
   ]
  },
  {
   "cell_type": "code",
   "execution_count": 3,
   "id": "7d68ae79",
   "metadata": {},
   "outputs": [],
   "source": [
    "#Numpy for handling data in vectors, matplotlib to graph\n",
    "import numpy as np\n",
    "import matplotlib.pyplot as plt\n",
    "#Library to work with TIFFs\n",
    "import tifffile\n",
    "\n",
    "#Importing OS for \n",
    "import os\n",
    "#We are going to work with large images and patchify helps with dividing it up\n",
    "import patchify as p\n",
    "import scipy\n",
    "from scipy import ndimage\n",
    "#Random imported for sampling\n",
    "import random\n",
    "import cv2"
   ]
  },
  {
   "cell_type": "code",
   "execution_count": 4,
   "id": "6688d7d5",
   "metadata": {},
   "outputs": [],
   "source": [
    "import cv2\n",
    "import numpy as np\n",
    "\n",
    "def read_image_and_mask(image_path, mask_path):\n",
    "    \"\"\"\n",
    "    Reads an image and a mask from the specified paths and returns them as NumPy arrays.\n",
    "    \n",
    "    Args:\n",
    "        image_path (str): Path to the image file.\n",
    "        mask_path (str): Path to the mask file.\n",
    "    \n",
    "    Returns:\n",
    "        tuple: A tuple containing the image array and the mask array.\n",
    "    \"\"\"\n",
    "    # Read the image using OpenCV\n",
    "    image = cv2.imread(image_path)\n",
    "    \n",
    "    # Convert the image to grayscale\n",
    "    gray_image = cv2.cvtColor(image, cv2.COLOR_BGR2GRAY)\n",
    "\n",
    "    # Reshape the grayscale image to have three channels by adding an additional dimension\n",
    "    three_channel_image = np.expand_dims(gray_image, axis=-1)\n",
    "    \n",
    "    # Repeat the single channel across three channels to convert it to RGB format\n",
    "    rgb_image = np.repeat(three_channel_image, 3, axis=-1)\n",
    "\n",
    "    # Read the mask image using OpenCV\n",
    "    mask_image = cv2.imread(mask_path, cv2.IMREAD_GRAYSCALE)\n",
    "\n",
    "    # Convert the images to NumPy arrays\n",
    "    image_array = np.array(rgb_image)\n",
    "    mask_array = np.array(mask_image)\n",
    "    \n",
    "    return image_array, mask_array\n",
    "\n",
    "# Example usage:\n",
    "image_array, mask_array = read_image_and_mask('/Users/adikrish/Desktop/Adam.jpg', '/Users/adikrish/Desktop/Eve.png')\n"
   ]
  },
  {
   "cell_type": "code",
   "execution_count": 5,
   "id": "4c775b5b",
   "metadata": {},
   "outputs": [],
   "source": [
    "import cv2\n",
    "import numpy as np\n",
    "\n",
    "def read_image_and_mask(image_path, mask_path):\n",
    "    \"\"\"\n",
    "    Reads an image and a mask from the specified paths and returns them as NumPy arrays.\n",
    "    \n",
    "    Args:\n",
    "        image_path (str): Path to the image file.\n",
    "        mask_path (str): Path to the mask file.\n",
    "    \n",
    "    Returns:\n",
    "        tuple: A tuple containing the image array and the mask array.\n",
    "    \"\"\"\n",
    "    # Read the image using OpenCV\n",
    "    image = cv2.imread(image_path)\n",
    "    \n",
    "    # Convert the image to grayscale\n",
    "    gray_image = cv2.cvtColor(image, cv2.COLOR_BGR2GRAY)\n",
    "\n",
    "    # Reshape the grayscale image to have three channels by adding an additional dimension\n",
    "    three_channel_image = np.expand_dims(gray_image, axis=-1)\n",
    "    \n",
    "    # Repeat the single channel across three channels to convert it to RGB format\n",
    "    rgb_image = np.repeat(three_channel_image, 3, axis=-1)\n",
    "\n",
    "    # Read the mask image using OpenCV\n",
    "    mask_image = cv2.imread(mask_path, cv2.IMREAD_GRAYSCALE)\n",
    "\n",
    "    # Reshape the mask to have three channels by adding an additional dimension\n",
    "    three_channel_mask = np.expand_dims(mask_image, axis=-1)\n",
    "    \n",
    "    # Repeat the single channel across three channels to maintain consistency\n",
    "    three_channel_mask = np.repeat(three_channel_mask, 3, axis=-1)\n",
    "\n",
    "    # Convert the images to NumPy arrays\n",
    "    image_array = np.array(rgb_image)\n",
    "    mask_array = np.array(three_channel_mask)\n",
    "    \n",
    "    return image_array, mask_array\n",
    "\n",
    "# Example usage:\n",
    "image_array, mask_array = read_image_and_mask('/Users/adikrish/Desktop/Adam.jpg', '/Users/adikrish/Desktop/Eve.png')\n"
   ]
  },
  {
   "cell_type": "code",
   "execution_count": 6,
   "id": "140e6da2",
   "metadata": {},
   "outputs": [
    {
     "data": {
      "text/plain": [
       "(1504, 2048, 3)"
      ]
     },
     "execution_count": 6,
     "metadata": {},
     "output_type": "execute_result"
    }
   ],
   "source": [
    "image_array.shape\n",
    "\n",
    "mask_array.shape"
   ]
  },
  {
   "cell_type": "code",
   "execution_count": 7,
   "id": "7261399f",
   "metadata": {},
   "outputs": [],
   "source": [
    "#creates a step size and a patch size\n",
    "patch_size = 256 \n",
    "step = 256"
   ]
  },
  {
   "cell_type": "code",
   "execution_count": 8,
   "id": "9cbb7713",
   "metadata": {},
   "outputs": [],
   "source": [
    "import numpy as np\n",
    "import patchify  # Assuming you're using the 'patchify' library for patch extraction\n",
    "\n",
    "# Define the patch size and step size\n",
    "patch_size = 256\n",
    "step = 256\n",
    "num_patches = 40\n",
    "\n",
    "# Function to extract patches from an image\n",
    "def extract_patches(image_array, patch_size, step, num_patches):\n",
    "    all_patches = []\n",
    "    patches = patchify.patchify(image_array, (patch_size, patch_size, image_array.shape[-1]), step=step)\n",
    "    for i in range(patches.shape[0]):\n",
    "        for j in range(patches.shape[1]):\n",
    "            patch = patches[i, j, :, :]\n",
    "            all_patches.append(patch)\n",
    "            if len(all_patches) == num_patches:\n",
    "                return np.array(all_patches)\n",
    "    return np.array(all_patches)\n",
    "\n",
    "# Read the image and mask\n",
    "image_array, mask_array = read_image_and_mask('/Users/adikrish/Desktop/Adam.jpg', '/Users/adikrish/Desktop/Eve.png')\n",
    "\n",
    "# Extract patches from the image\n",
    "if len(image_array.shape) == 2:  # Grayscale image\n",
    "    patches_img = extract_patches(image_array[:, :, np.newaxis], patch_size, step, num_patches)\n",
    "else:  # RGB image\n",
    "    patches_img = extract_patches(image_array, patch_size, step, num_patches)\n",
    "\n",
    "# Extract patches from the mask\n",
    "patches_mask = extract_patches(mask_array, patch_size, step, num_patches)\n",
    "\n",
    "# Preprocess the mask patches\n",
    "patches_mask = (patches_mask / 255.).astype(np.uint8)\n",
    "\n",
    "# Ensure the shape is (40, 256, 256, 3)\n",
    "patches_img = np.squeeze(patches_img, axis=1)\n",
    "patches_mask = np.squeeze(patches_mask, axis=1)\n",
    "\n",
    "# Optionally, you can convert the list of patches to a NumPy array if needed\n",
    "images = np.array(patches_img)\n",
    "masks = np.array(patches_mask)\n"
   ]
  },
  {
   "cell_type": "code",
   "execution_count": 9,
   "id": "7fae58f5",
   "metadata": {},
   "outputs": [
    {
     "name": "stdout",
     "output_type": "stream",
     "text": [
      "Image shape: (40, 256, 256, 3)\n",
      "mask shape:  (40, 256, 256, 3)\n"
     ]
    }
   ],
   "source": [
    "valid_indices = [i for i, masks in enumerate(masks) if masks.max() != 0]\n",
    "filtered_images = images[valid_indices]\n",
    "filtered_masks = masks[valid_indices]\n",
    "print(\"Image shape:\", filtered_images.shape)\n",
    "print(\"mask shape: \", filtered_masks.shape)"
   ]
  },
  {
   "cell_type": "code",
   "execution_count": 10,
   "id": "9b522d68",
   "metadata": {},
   "outputs": [],
   "source": [
    "#move it to a dataset object\n",
    "from datasets import Dataset\n",
    "from PIL import Image\n",
    "dataset_dict = {\n",
    "    'image': [Image.fromarray(img) for img in filtered_images],\n",
    "    \"label\": [Image.fromarray(mask) for mask in filtered_masks]\n",
    "}\n",
    "dataset = Dataset.from_dict(dataset_dict)"
   ]
  },
  {
   "cell_type": "code",
   "execution_count": 11,
   "id": "dfeb64e1",
   "metadata": {},
   "outputs": [
    {
     "data": {
      "text/plain": [
       "Dataset({\n",
       "    features: ['image', 'label'],\n",
       "    num_rows: 40\n",
       "})"
      ]
     },
     "execution_count": 11,
     "metadata": {},
     "output_type": "execute_result"
    }
   ],
   "source": [
    "#We only have 40 images because we only have 40 masks\n",
    "dataset"
   ]
  },
  {
   "cell_type": "code",
   "execution_count": 12,
   "id": "f4cd027c",
   "metadata": {},
   "outputs": [
    {
     "data": {
      "image/png": "[encoded data removed]",
      "text/plain": [
       "<Figure size 1000x500 with 2 Axes>"
      ]
     },
     "metadata": {},
     "output_type": "display_data"
    }
   ],
   "source": [
    "import matplotlib.pyplot as plt\n",
    "import random\n",
    "\n",
    "# Assuming `filtered_images` is the dataset containing images and labels\n",
    "# Ensure that the dataset contains valid image and label pairs\n",
    "\n",
    "# A quick sanity check to see if our masks are working properly\n",
    "img_num = random.randint(0, filtered_images.shape[0]-1)\n",
    "example_image = dataset[img_num][\"image\"]\n",
    "example_mask = dataset[img_num][\"label\"]\n",
    "\n",
    "fig, axes = plt.subplots(1, 2, figsize=(10, 5))\n",
    "\n",
    "# Plot the first image on the left\n",
    "axes[0].imshow(np.array(example_image), cmap='gray')  # Assuming the first image is grayscale\n",
    "axes[0].set_title(\"Image\")\n",
    "\n",
    "# Plot the second image on the right\n",
    "axes[1].imshow(example_mask, cmap='gray')  # Assuming the second image is grayscale\n",
    "axes[1].set_title(\"Mask\")\n",
    "\n",
    "# Hide axis ticks and labels\n",
    "for ax in axes:\n",
    "    ax.set_xticks([])\n",
    "    ax.set_yticks([])\n",
    "    ax.set_xticklabels([])\n",
    "    ax.set_yticklabels([])\n",
    "\n",
    "# Display the images side by side\n",
    "plt.show()\n"
   ]
  },
  {
   "cell_type": "code",
   "execution_count": 13,
   "id": "e8592349",
   "metadata": {},
   "outputs": [],
   "source": [
    "\n",
    "#Get bounding boxes from mask.\n",
    "def get_bounding_box(ground_truth_map):\n",
    "  # get bounding box from mask\n",
    "    y_indices, x_indices = np.where(ground_truth_map > 0)[0], np.where(ground_truth_map > 0)[1]\n",
    "    x_min, x_max = np.min(x_indices), np.max(x_indices)\n",
    "    y_min, y_max = np.min(y_indices), np.max(y_indices)\n",
    "    # add perturbation to bounding box coordinates\n",
    "    H, W,useless = ground_truth_map.shape\n",
    "    x_min = max(0, x_min - np.random.randint(0, 20))\n",
    "    x_max = min(W, x_max + np.random.randint(0, 20))\n",
    "    y_min = max(0, y_min - np.random.randint(0, 20))\n",
    "    y_max = min(H, y_max + np.random.randint(0, 20))\n",
    "    bbox = [x_min, y_min, x_max, y_max]\n",
    "\n",
    "    return bbox"
   ]
  },
  {
   "cell_type": "code",
   "execution_count": 14,
   "id": "51f8c897",
   "metadata": {},
   "outputs": [],
   "source": [
    "from torch.utils.data import Dataset\n",
    "\n",
    "class SAMDataset(Dataset):\n",
    "    \"\"\"\n",
    "    This class creates a dataset with input images and masks.\n",
    "    Overrides the __len__ and __getitem__ methods of the Dataset class\n",
    "    \"\"\"\n",
    "    #constructor that provides the data set and the processor\n",
    "    def __init__(self,dataset,processor):\n",
    "        self.dataset = dataset\n",
    "        self.processor = processor\n",
    "        \n",
    "    def __len__(self):\n",
    "        return len(self.dataset)\n",
    "    \n",
    "    def __getitem__(self, idx):\n",
    "        #gives us an image and the groundtruth box\n",
    "        item = self.dataset[idx]\n",
    "        image = item[\"image\"]\n",
    "        ground_truth_mask = np.array(item[\"label\"])\n",
    "        #gives us the bounding box for the image\n",
    "        prompt = get_bounding_box(ground_truth_mask)\n",
    "        # prepare iamge and prompt for the model\n",
    "        inputs = self.processor(image,input_boxes = [[prompt]], return_tensors = \"pt\")\n",
    "        #removes the batch dimension (which is added by default by the processor need to look into this more)\n",
    "        inputs = {k:v.squeeze(0) for k,v in inputs.items()}\n",
    "        #Adds ground truth segmentation\n",
    "        inputs[\"ground_truth_mask\"] = ground_truth_mask\n",
    "        return inputs"
   ]
  },
  {
   "cell_type": "code",
   "execution_count": 15,
   "id": "9a1b5fb5",
   "metadata": {},
   "outputs": [],
   "source": [
    "#Initalizes our processor\n",
    "from transformers import SamProcessor\n",
    "processor = SamProcessor.from_pretrained(\"facebook/sam-vit-base\")"
   ]
  },
  {
   "cell_type": "code",
   "execution_count": 16,
   "id": "0907b0a8",
   "metadata": {},
   "outputs": [],
   "source": [
    "train_dataset = SAMDataset(dataset,processor)"
   ]
  },
  {
   "cell_type": "code",
   "execution_count": 17,
   "id": "df39f026",
   "metadata": {},
   "outputs": [],
   "source": [
    "example = train_dataset"
   ]
  },
  {
   "cell_type": "code",
   "execution_count": 20,
   "id": "12ebb5ce",
   "metadata": {},
   "outputs": [],
   "source": [
    "#We are customizing our data loader\n",
    "#Put drop_last to True if you get some tensor error\n",
    "from torch.utils.data import DataLoader\n",
    "train_dataloader = DataLoader(train_dataset,batch_size = 2, shuffle = True, drop_last = False)\n",
    "batch = next(iter(train_dataloader))"
   ]
  },
  {
   "cell_type": "code",
   "execution_count": 21,
   "id": "0d1cc882",
   "metadata": {},
   "outputs": [],
   "source": [
    "# Assuming batch is a dictionary containing image data\n",
    "#Use batch = next(iter(train_dataloader)) for 3d Array\n",
    "len(train_dataloader)\n",
    "import torch\n",
    "\n",
    "# Assuming batch is the dictionary containing tensors\n",
    "for k, v in batch.items():\n",
    "    if k == 'ground_truth_mask':\n",
    "        # Convert the ground truth mask tensors from Byte to float before calculating the mean\n",
    "        batch[k] = torch.mean(v.float(), dim=-1)"
   ]
  },
  {
   "cell_type": "code",
   "execution_count": 22,
   "id": "687036d8",
   "metadata": {},
   "outputs": [
    {
     "name": "stdout",
     "output_type": "stream",
     "text": [
      "pixel_values torch.Size([2, 3, 1024, 1024])\n",
      "original_sizes torch.Size([2, 2])\n",
      "reshaped_input_sizes torch.Size([2, 2])\n",
      "input_boxes torch.Size([2, 1, 4])\n",
      "ground_truth_mask torch.Size([2, 256, 256])\n"
     ]
    }
   ],
   "source": [
    "\n",
    "\n",
    "# Print the updated shapes\n",
    "for k, v in batch.items():\n",
    "    print(k, v.shape)"
   ]
  },
  {
   "cell_type": "code",
   "execution_count": null,
   "id": "1e595c0e",
   "metadata": {},
   "outputs": [],
   "source": []
  },
  {
   "cell_type": "code",
   "execution_count": 24,
   "id": "752f5eab",
   "metadata": {},
   "outputs": [
    {
     "data": {
      "text/plain": [
       "tensor([[[0., 0., 0.,  ..., 0., 0., 0.],\n",
       "         [0., 0., 0.,  ..., 0., 0., 0.],\n",
       "         [0., 0., 0.,  ..., 0., 0., 0.],\n",
       "         ...,\n",
       "         [0., 0., 0.,  ..., 0., 0., 0.],\n",
       "         [0., 0., 0.,  ..., 0., 0., 0.],\n",
       "         [0., 0., 0.,  ..., 0., 0., 0.]],\n",
       "\n",
       "        [[0., 0., 0.,  ..., 0., 0., 0.],\n",
       "         [0., 0., 0.,  ..., 0., 0., 0.],\n",
       "         [0., 0., 0.,  ..., 0., 0., 0.],\n",
       "         ...,\n",
       "         [0., 0., 0.,  ..., 0., 0., 0.],\n",
       "         [0., 0., 0.,  ..., 0., 0., 0.],\n",
       "         [0., 0., 0.,  ..., 0., 0., 0.]]])"
      ]
     },
     "execution_count": 24,
     "metadata": {},
     "output_type": "execute_result"
    }
   ],
   "source": [
    "batch[\"ground_truth_mask\"]"
   ]
  },
  {
   "cell_type": "code",
   "execution_count": null,
   "id": "93a1292f",
   "metadata": {},
   "outputs": [],
   "source": [
    "from transformers import SamModel\n",
    "model = SamModel.from_pretrained(\"facebook/sam-vit-base\")\n",
    "#makes sure we only compute the gradients for what we need\n",
    "for name, param in model.named_parameters():\n",
    "    if name.startswith(\"vision_encoder\") or name.startswith(\"prompt_encoder\"):\n",
    "        param.requires_grad_(False)"
   ]
  },
  {
   "cell_type": "code",
   "execution_count": null,
   "id": "a5a6c8f3",
   "metadata": {},
   "outputs": [],
   "source": [
    "from torch.optim import Adam\n",
    "import monai\n",
    "# Initialize the optimizer and the loss function\n",
    "optimizer = Adam(model.mask_decoder.parameters(), lr=1e-5, weight_decay=0)\n",
    "#Try DiceFocalLoss, FocalLoss, DiceCELoss\n",
    "seg_loss = monai.losses.DiceCELoss(sigmoid=True, squared_pred=True, reduction='mean')"
   ]
  },
  {
   "cell_type": "code",
   "execution_count": null,
   "id": "d3e168a2",
   "metadata": {},
   "outputs": [],
   "source": [
    "\n",
    "from tqdm import tqdm\n",
    "from statistics import mean\n",
    "import torch\n",
    "from torch.nn.functional import threshold, normalize\n",
    "\n",
    "#Training loop\n",
    "num_epochs = 1\n",
    "\n",
    "device = \"cuda\" if torch.cuda.is_available() else \"cpu\"\n",
    "model.to(device)\n",
    "\n",
    "model.train()\n",
    "for epoch in range(num_epochs):\n",
    "    print(\"Epoch 1 start!\")\n",
    "    epoch_losses = []\n",
    "    for batch in tqdm(train_dataloader):\n",
    "      # forward pass\n",
    "        outputs = model(pixel_values=batch[\"pixel_values\"].to(device),\n",
    "                      input_boxes=batch[\"input_boxes\"].to(device),\n",
    "                      multimask_output=False)\n",
    "\n",
    "      # compute loss\n",
    "        predicted_masks = outputs.pred_masks.squeeze(1)\n",
    "        ground_truth_masks = batch[\"ground_truth_mask\"].float().to(device)\n",
    "        loss = seg_loss(predicted_masks, ground_truth_masks.unsqueeze(1))\n",
    "\n",
    "      # backward pass (compute gradients of parameters w.r.t. loss)\n",
    "        optimizer.zero_grad()\n",
    "        loss.backward()\n",
    "\n",
    "      # optimize\n",
    "        optimizer.step()\n",
    "        epoch_losses.append(loss.item())\n",
    "\n",
    "    print(f'EPOCH: {epoch}')\n",
    "    print(f'Mean loss: {mean(epoch_losses)}')"
   ]
  }
 ],
 "metadata": {
  "kernelspec": {
   "display_name": "Python 3 (ipykernel)",
   "language": "python",
   "name": "python3"
  },
  "language_info": {
   "codemirror_mode": {
    "name": "ipython",
    "version": 3
   },
   "file_extension": ".py",
   "mimetype": "text/x-python",
   "name": "python",
   "nbconvert_exporter": "python",
   "pygments_lexer": "ipython3",
   "version": "3.11.5"
  }
 },
 "nbformat": 4,
 "nbformat_minor": 5
}
