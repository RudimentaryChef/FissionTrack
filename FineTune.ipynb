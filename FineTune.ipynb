{
 "cells": [
  {
   "cell_type": "code",
   "execution_count": 54,
   "id": "7b9fa07c",
   "metadata": {},
   "outputs": [
    {
     "name": "stdout",
     "output_type": "stream",
     "text": [
      "[main 6082a3b] adds more optimizer\n",
      " 1 file changed, 50 insertions(+), 29 deletions(-)\n",
      "Enumerating objects: 5, done.\n",
      "Counting objects: 100% (5/5), done.\n",
      "Delta compression using up to 8 threads\n",
      "Compressing objects: 100% (3/3), done.\n",
      "Writing objects: 100% (3/3), 830 bytes | 830.00 KiB/s, done.\n",
      "Total 3 (delta 2), reused 0 (delta 0), pack-reused 0\n",
      "remote: Resolving deltas: 100% (2/2), completed with 2 local objects.\u001b[K\n",
      "To https://github.com/RudimentaryChef/FissionTrack.git\n",
      "   d3949ab..6082a3b  main -> main\n"
     ]
    }
   ],
   "source": [
    "!git add .\n",
    "!git commit -m \"adds more optimizer\"\n",
    "!git push"
   ]
  },
  {
   "cell_type": "code",
   "execution_count": 2,
   "id": "cea48f14",
   "metadata": {},
   "outputs": [],
   "source": [
    "# Install the required libraries\n",
    "#SAM\n",
    "#!pip install git+https://github.com/facebookresearch/segment-anything.git\n",
    "#Transformers\n",
    "#!pip install -q git+https://github.com/huggingface/transformers.git\n",
    "#Datasets to prepare data and monai if you want to use special loss functions\n",
    "#!pip install datasets\n",
    "#!pip install -q monai\n",
    "#Patchify to divide large images into smaller patches for training. (Not necessary for smaller images)\n",
    "#!pip install patchify\n",
    "\n",
    "#!pip install matplotlib\n",
    "\n",
    "#!pip install tifffile\n",
    "\n",
    "#!pip install scipy\n"
   ]
  },
  {
   "cell_type": "code",
   "execution_count": 3,
   "id": "b9200a8b",
   "metadata": {},
   "outputs": [],
   "source": [
    "#Numpy for handling data in vectors, matplotlib to graph\n",
    "import numpy as np\n",
    "import matplotlib.pyplot as plt\n",
    "#Library to work with TIFFs\n",
    "import tifffile\n",
    "\n",
    "#Importing OS for \n",
    "import os\n",
    "#We are going to work with large images and patchify helps with dividing it up\n",
    "import patchify as p\n",
    "import scipy\n",
    "from scipy import ndimage\n",
    "#Random imported for sampling\n",
    "import random\n",
    "import cv2"
   ]
  },
  {
   "cell_type": "code",
   "execution_count": 4,
   "id": "bbecc555",
   "metadata": {},
   "outputs": [],
   "source": [
    "import cv2\n",
    "import numpy as np\n",
    "\n",
    "def read_image_and_mask(image_path, mask_path):\n",
    "    \"\"\"\n",
    "    Reads an image and a mask from the specified paths and returns them as NumPy arrays.\n",
    "    \n",
    "    Args:\n",
    "        image_path (str): Path to the image file.\n",
    "        mask_path (str): Path to the mask file.\n",
    "    \n",
    "    Returns:\n",
    "        tuple: A tuple containing the image array and the mask array.\n",
    "    \"\"\"\n",
    "    # Read the image using OpenCV\n",
    "    image = cv2.imread(image_path)\n",
    "    \n",
    "    # Convert the image to grayscale\n",
    "    gray_image = cv2.cvtColor(image, cv2.COLOR_BGR2GRAY)\n",
    "\n",
    "    # Reshape the grayscale image to have three channels by adding an additional dimension\n",
    "    three_channel_image = np.expand_dims(gray_image, axis=-1)\n",
    "    \n",
    "    # Repeat the single channel across three channels to convert it to RGB format\n",
    "    rgb_image = np.repeat(three_channel_image, 3, axis=-1)\n",
    "\n",
    "    # Read the mask image using OpenCV\n",
    "    mask_image = cv2.imread(mask_path, cv2.IMREAD_GRAYSCALE)\n",
    "\n",
    "    # Convert the images to NumPy arrays\n",
    "    image_array = np.array(rgb_image)\n",
    "    mask_array = np.array(mask_image)\n",
    "    \n",
    "    return image_array, mask_array\n",
    "\n",
    "# Example usage:\n",
    "image_array, mask_array = read_image_and_mask('/Users/adikrish/Desktop/Adam.jpg', '/Users/adikrish/Desktop/Eve.png')\n"
   ]
  },
  {
   "cell_type": "code",
   "execution_count": 5,
   "id": "c3b3aab7",
   "metadata": {},
   "outputs": [],
   "source": [
    "import cv2\n",
    "import numpy as np\n",
    "\n",
    "def read_image_and_mask(image_path, mask_path):\n",
    "    \"\"\"\n",
    "    Reads an image and a mask from the specified paths and returns them as NumPy arrays.\n",
    "    \n",
    "    Args:\n",
    "        image_path (str): Path to the image file.\n",
    "        mask_path (str): Path to the mask file.\n",
    "    \n",
    "    Returns:\n",
    "        tuple: A tuple containing the image array and the mask array.\n",
    "    \"\"\"\n",
    "    # Read the image using OpenCV\n",
    "    image = cv2.imread(image_path)\n",
    "    \n",
    "    # Convert the image to grayscale\n",
    "    gray_image = cv2.cvtColor(image, cv2.COLOR_BGR2GRAY)\n",
    "\n",
    "    # Reshape the grayscale image to have three channels by adding an additional dimension\n",
    "    three_channel_image = np.expand_dims(gray_image, axis=-1)\n",
    "    \n",
    "    # Repeat the single channel across three channels to convert it to RGB format\n",
    "    rgb_image = np.repeat(three_channel_image, 3, axis=-1)\n",
    "\n",
    "    # Read the mask image using OpenCV\n",
    "    mask_image = cv2.imread(mask_path, cv2.IMREAD_GRAYSCALE)\n",
    "\n",
    "    # Reshape the mask to have three channels by adding an additional dimension\n",
    "    three_channel_mask = np.expand_dims(mask_image, axis=-1)\n",
    "    \n",
    "    # Repeat the single channel across three channels to maintain consistency\n",
    "    three_channel_mask = np.repeat(three_channel_mask, 3, axis=-1)\n",
    "\n",
    "    # Convert the images to NumPy arrays\n",
    "    image_array = np.array(rgb_image)\n",
    "    mask_array = np.array(three_channel_mask)\n",
    "    \n",
    "    return image_array, mask_array\n",
    "\n",
    "# Example usage:\n",
    "image_array, mask_array = read_image_and_mask('/Users/adikrish/Desktop/Adam.jpg', '/Users/adikrish/Desktop/Eve.png')\n"
   ]
  },
  {
   "cell_type": "code",
   "execution_count": 6,
   "id": "1ef1090f",
   "metadata": {},
   "outputs": [
    {
     "data": {
      "text/plain": [
       "(1504, 2048, 3)"
      ]
     },
     "execution_count": 6,
     "metadata": {},
     "output_type": "execute_result"
    }
   ],
   "source": [
    "image_array.shape\n",
    "\n",
    "mask_array.shape"
   ]
  },
  {
   "cell_type": "code",
   "execution_count": 7,
   "id": "f92d71a2",
   "metadata": {},
   "outputs": [],
   "source": [
    "#creates a step size and a patch size\n",
    "patch_size = 256 \n",
    "step = 256"
   ]
  },
  {
   "cell_type": "code",
   "execution_count": 8,
   "id": "e917b417",
   "metadata": {},
   "outputs": [],
   "source": [
    "import numpy as np\n",
    "import patchify  # Assuming you're using the 'patchify' library for patch extraction\n",
    "\n",
    "# Define the patch size and step size\n",
    "patch_size = 256\n",
    "step = 256\n",
    "num_patches = 40\n",
    "\n",
    "# Function to extract patches from an image\n",
    "def extract_patches(image_array, patch_size, step, num_patches):\n",
    "    all_patches = []\n",
    "    patches = patchify.patchify(image_array, (patch_size, patch_size, image_array.shape[-1]), step=step)\n",
    "    for i in range(patches.shape[0]):\n",
    "        for j in range(patches.shape[1]):\n",
    "            patch = patches[i, j, :, :]\n",
    "            all_patches.append(patch)\n",
    "            if len(all_patches) == num_patches:\n",
    "                return np.array(all_patches)\n",
    "    return np.array(all_patches)\n",
    "\n",
    "# Read the image and mask\n",
    "image_array, mask_array = read_image_and_mask('/Users/adikrish/Desktop/Adam.jpg', '/Users/adikrish/Desktop/Eve.png')\n",
    "\n",
    "# Extract patches from the image\n",
    "if len(image_array.shape) == 2:  # Grayscale image\n",
    "    patches_img = extract_patches(image_array[:, :, np.newaxis], patch_size, step, num_patches)\n",
    "else:  # RGB image\n",
    "    patches_img = extract_patches(image_array, patch_size, step, num_patches)\n",
    "\n",
    "# Extract patches from the mask\n",
    "patches_mask = extract_patches(mask_array, patch_size, step, num_patches)\n",
    "\n",
    "# Preprocess the mask patches\n",
    "patches_mask = (patches_mask / 255.).astype(np.uint8)\n",
    "\n",
    "# Ensure the shape is (40, 256, 256, 3)\n",
    "patches_img = np.squeeze(patches_img, axis=1)\n",
    "patches_mask = np.squeeze(patches_mask, axis=1)\n",
    "\n",
    "# Optionally, you can convert the list of patches to a NumPy array if needed\n",
    "images = np.array(patches_img)\n",
    "masks = np.array(patches_mask)\n"
   ]
  },
  {
   "cell_type": "code",
   "execution_count": 9,
   "id": "38e28866",
   "metadata": {},
   "outputs": [
    {
     "name": "stdout",
     "output_type": "stream",
     "text": [
      "Image shape: (40, 256, 256, 3)\n",
      "mask shape:  (40, 256, 256, 3)\n"
     ]
    }
   ],
   "source": [
    "valid_indices = [i for i, masks in enumerate(masks) if masks.max() != 0]\n",
    "filtered_images = images[valid_indices]\n",
    "filtered_masks = masks[valid_indices]\n",
    "print(\"Image shape:\", filtered_images.shape)\n",
    "print(\"mask shape: \", filtered_masks.shape)"
   ]
  },
  {
   "cell_type": "code",
   "execution_count": 10,
   "id": "dbf27ae1",
   "metadata": {},
   "outputs": [],
   "source": [
    "#move it to a dataset object\n",
    "from datasets import Dataset\n",
    "from PIL import Image\n",
    "dataset_dict = {\n",
    "    'image': [Image.fromarray(img) for img in filtered_images],\n",
    "    \"label\": [Image.fromarray(mask) for mask in filtered_masks]\n",
    "}\n",
    "dataset = Dataset.from_dict(dataset_dict)"
   ]
  },
  {
   "cell_type": "code",
   "execution_count": 11,
   "id": "9d87c049",
   "metadata": {},
   "outputs": [
    {
     "data": {
      "text/plain": [
       "Dataset({\n",
       "    features: ['image', 'label'],\n",
       "    num_rows: 40\n",
       "})"
      ]
     },
     "execution_count": 11,
     "metadata": {},
     "output_type": "execute_result"
    }
   ],
   "source": [
    "#We only have 40 images because we only have 40 masks\n",
    "dataset"
   ]
  },
  {
   "cell_type": "code",
   "execution_count": 27,
   "id": "c22050c8",
   "metadata": {},
   "outputs": [
    {
     "data": {
      "image/png": "[encoded data removed]",
      "text/plain": [
       "<Figure size 1000x500 with 2 Axes>"
      ]
     },
     "metadata": {},
     "output_type": "display_data"
    }
   ],
   "source": [
    "import matplotlib.pyplot as plt\n",
    "import random\n",
    "\n",
    "# Assuming `filtered_images` is the dataset containing images and labels\n",
    "# Ensure that the dataset contains valid image and label pairs\n",
    "\n",
    "# A quick sanity check to see if our masks are working properly\n",
    "img_num = random.randint(0, filtered_images.shape[0]-1)\n",
    "example_image = dataset[img_num][\"image\"]\n",
    "example_mask = dataset[img_num][\"label\"]\n",
    "\n",
    "fig, axes = plt.subplots(1, 2, figsize=(10, 5))\n",
    "\n",
    "# Plot the first image on the left\n",
    "axes[0].imshow(np.array(example_image), cmap='gray')  # Assuming the first image is grayscale\n",
    "axes[0].set_title(\"Image\")\n",
    "\n",
    "# Plot the second image on the right\n",
    "axes[1].imshow(example_mask, cmap='gray')  # Assuming the second image is grayscale\n",
    "axes[1].set_title(\"Mask\")\n",
    "\n",
    "# Hide axis ticks and labels\n",
    "for ax in axes:\n",
    "    ax.set_xticks([])\n",
    "    ax.set_yticks([])\n",
    "    ax.set_xticklabels([])\n",
    "    ax.set_yticklabels([])\n",
    "\n",
    "# Display the images side by side\n",
    "plt.show()\n"
   ]
  },
  {
   "cell_type": "code",
   "execution_count": 13,
   "id": "fc7efb67",
   "metadata": {},
   "outputs": [],
   "source": [
    "\n",
    "#Get bounding boxes from mask.\n",
    "def get_bounding_box(ground_truth_map):\n",
    "  # get bounding box from mask\n",
    "    y_indices, x_indices = np.where(ground_truth_map > 0)[0], np.where(ground_truth_map > 0)[1]\n",
    "    x_min, x_max = np.min(x_indices), np.max(x_indices)\n",
    "    y_min, y_max = np.min(y_indices), np.max(y_indices)\n",
    "    # add perturbation to bounding box coordinates\n",
    "    H, W,useless = ground_truth_map.shape\n",
    "    x_min = max(0, x_min - np.random.randint(0, 20))\n",
    "    x_max = min(W, x_max + np.random.randint(0, 20))\n",
    "    y_min = max(0, y_min - np.random.randint(0, 20))\n",
    "    y_max = min(H, y_max + np.random.randint(0, 20))\n",
    "    bbox = [x_min, y_min, x_max, y_max]\n",
    "\n",
    "    return bbox"
   ]
  },
  {
   "cell_type": "code",
   "execution_count": 14,
   "id": "c1f3c500",
   "metadata": {},
   "outputs": [],
   "source": [
    "from torch.utils.data import Dataset\n",
    "\n",
    "class SAMDataset(Dataset):\n",
    "    \"\"\"\n",
    "    This class creates a dataset with input images and masks.\n",
    "    Overrides the __len__ and __getitem__ methods of the Dataset class\n",
    "    \"\"\"\n",
    "    #constructor that provides the data set and the processor\n",
    "    def __init__(self,dataset,processor):\n",
    "        self.dataset = dataset\n",
    "        self.processor = processor\n",
    "        \n",
    "    def __len__(self):\n",
    "        return len(self.dataset)\n",
    "    \n",
    "    def __getitem__(self, idx):\n",
    "        #gives us an image and the groundtruth box\n",
    "        item = self.dataset[idx]\n",
    "        image = item[\"image\"]\n",
    "        ground_truth_mask = np.array(item[\"label\"])\n",
    "        #gives us the bounding box for the image\n",
    "        prompt = get_bounding_box(ground_truth_mask)\n",
    "        # prepare iamge and prompt for the model\n",
    "        inputs = self.processor(image,input_boxes = [[prompt]], return_tensors = \"pt\")\n",
    "        #removes the batch dimension (which is added by default by the processor need to look into this more)\n",
    "        inputs = {k:v.squeeze(0) for k,v in inputs.items()}\n",
    "        #Adds ground truth segmentation\n",
    "        inputs[\"ground_truth_mask\"] = ground_truth_mask\n",
    "        return inputs"
   ]
  },
  {
   "cell_type": "code",
   "execution_count": 15,
   "id": "f9efa5e1",
   "metadata": {},
   "outputs": [],
   "source": [
    "#Initalizes our processor\n",
    "from transformers import SamProcessor\n",
    "processor = SamProcessor.from_pretrained(\"facebook/sam-vit-base\")"
   ]
  },
  {
   "cell_type": "code",
   "execution_count": 16,
   "id": "1d37f76b",
   "metadata": {},
   "outputs": [],
   "source": [
    "train_dataset = SAMDataset(dataset,processor)"
   ]
  },
  {
   "cell_type": "code",
   "execution_count": 17,
   "id": "cabf08df",
   "metadata": {},
   "outputs": [],
   "source": [
    "example = train_dataset"
   ]
  },
  {
   "cell_type": "code",
   "execution_count": 31,
   "id": "f7fb18ea",
   "metadata": {},
   "outputs": [],
   "source": [
    "#We are customizing our data loader\n",
    "#Put drop_last to True if you get some tensor error\n",
    "from torch.utils.data import DataLoader\n",
    "train_dataloader = DataLoader(train_dataset,batch_size = 2, shuffle = True, drop_last = False)"
   ]
  },
  {
   "cell_type": "code",
   "execution_count": 32,
   "id": "7904e28c",
   "metadata": {},
   "outputs": [
    {
     "data": {
      "text/plain": [
       "20"
      ]
     },
     "execution_count": 32,
     "metadata": {},
     "output_type": "execute_result"
    }
   ],
   "source": [
    "# Assuming batch is a dictionary containing image data\n",
    "#Use batch = next(iter(train_dataloader)) for 3d Array\n",
    "len(train_dataloader)"
   ]
  },
  {
   "cell_type": "code",
   "execution_count": 61,
   "id": "b9f2cb55",
   "metadata": {},
   "outputs": [
    {
     "name": "stdout",
     "output_type": "stream",
     "text": [
      "pixel_values torch.Size([2, 3, 1024, 1024])\n",
      "original_sizes torch.Size([2, 2])\n",
      "reshaped_input_sizes torch.Size([2, 2])\n",
      "input_boxes torch.Size([2, 1, 4])\n",
      "ground_truth_mask torch.Size([2, 256, 256])\n"
     ]
    }
   ],
   "source": [
    "import torch\n",
    "\n",
    "# Assuming batch is the dictionary containing tensors\n",
    "for k, v in batch.items():\n",
    "    if k == 'ground_truth_mask':\n",
    "        # Convert the ground truth mask tensors from Byte to float before calculating the mean\n",
    "        batch[k] = torch.mean(v.float(), dim=-1)\n",
    "\n",
    "# Print the updated shapes\n",
    "for k, v in batch.items():\n",
    "    print(k, v.shape)"
   ]
  },
  {
   "cell_type": "code",
   "execution_count": 62,
   "id": "51ab6e1c",
   "metadata": {},
   "outputs": [
    {
     "data": {
      "text/plain": [
       "17364"
      ]
     },
     "execution_count": 62,
     "metadata": {},
     "output_type": "execute_result"
    }
   ],
   "source": [
    "num_nonzeros"
   ]
  },
  {
   "cell_type": "code",
   "execution_count": 63,
   "id": "c907fb11",
   "metadata": {},
   "outputs": [],
   "source": [
    "from transformers import SamModel\n",
    "model = SamModel.from_pretrained(\"facebook/sam-vit-base\")\n",
    "#makes sure we only compute the gradients for what we need\n",
    "for name, param in model.named_parameters():\n",
    "    if name.startswith(\"vision_encoder\") or name.startswith(\"prompt_encoder\"):\n",
    "        param.requires_grad_(False)"
   ]
  },
  {
   "cell_type": "code",
   "execution_count": 64,
   "id": "3fa0c275",
   "metadata": {},
   "outputs": [],
   "source": [
    "from torch.optim import Adam\n",
    "import monai\n",
    "# Initialize the optimizer and the loss function\n",
    "optimizer = Adam(model.mask_decoder.parameters(), lr=1e-5, weight_decay=0)\n",
    "#Try DiceFocalLoss, FocalLoss, DiceCELoss\n",
    "seg_loss = monai.losses.DiceCELoss(sigmoid=True, squared_pred=True, reduction='mean')"
   ]
  },
  {
   "cell_type": "code",
   "execution_count": 65,
   "id": "9a805c09",
   "metadata": {},
   "outputs": [
    {
     "name": "stdout",
     "output_type": "stream",
     "text": [
      "Epoch 1 start!\n"
     ]
    },
    {
     "name": "stderr",
     "output_type": "stream",
     "text": [
      "  0%|                                                    | 0/20 [00:10<?, ?it/s]\n"
     ]
    },
    {
     "ename": "ValueError",
     "evalue": "the number of dimensions for input and target should be the same, got shape torch.Size([2, 1, 256, 256]) and torch.Size([2, 1, 256, 256, 3]).",
     "output_type": "error",
     "traceback": [
      "\u001b[0;31m---------------------------------------------------------------------------\u001b[0m",
      "\u001b[0;31mValueError\u001b[0m                                Traceback (most recent call last)",
      "Cell \u001b[0;32mIn[65], line 25\u001b[0m\n\u001b[1;32m     23\u001b[0m   predicted_masks \u001b[38;5;241m=\u001b[39m outputs\u001b[38;5;241m.\u001b[39mpred_masks\u001b[38;5;241m.\u001b[39msqueeze(\u001b[38;5;241m1\u001b[39m)\n\u001b[1;32m     24\u001b[0m   ground_truth_masks \u001b[38;5;241m=\u001b[39m batch[\u001b[38;5;124m\"\u001b[39m\u001b[38;5;124mground_truth_mask\u001b[39m\u001b[38;5;124m\"\u001b[39m]\u001b[38;5;241m.\u001b[39mfloat()\u001b[38;5;241m.\u001b[39mto(device)\n\u001b[0;32m---> 25\u001b[0m   loss \u001b[38;5;241m=\u001b[39m seg_loss(predicted_masks, ground_truth_masks\u001b[38;5;241m.\u001b[39munsqueeze(\u001b[38;5;241m1\u001b[39m))\n\u001b[1;32m     27\u001b[0m \u001b[38;5;66;03m# backward pass (compute gradients of parameters w.r.t. loss)\u001b[39;00m\n\u001b[1;32m     28\u001b[0m   optimizer\u001b[38;5;241m.\u001b[39mzero_grad()\n",
      "File \u001b[0;32m~/anaconda3/lib/python3.11/site-packages/torch/nn/modules/module.py:1511\u001b[0m, in \u001b[0;36mModule._wrapped_call_impl\u001b[0;34m(self, *args, **kwargs)\u001b[0m\n\u001b[1;32m   1509\u001b[0m     \u001b[38;5;28;01mreturn\u001b[39;00m \u001b[38;5;28mself\u001b[39m\u001b[38;5;241m.\u001b[39m_compiled_call_impl(\u001b[38;5;241m*\u001b[39margs, \u001b[38;5;241m*\u001b[39m\u001b[38;5;241m*\u001b[39mkwargs)  \u001b[38;5;66;03m# type: ignore[misc]\u001b[39;00m\n\u001b[1;32m   1510\u001b[0m \u001b[38;5;28;01melse\u001b[39;00m:\n\u001b[0;32m-> 1511\u001b[0m     \u001b[38;5;28;01mreturn\u001b[39;00m \u001b[38;5;28mself\u001b[39m\u001b[38;5;241m.\u001b[39m_call_impl(\u001b[38;5;241m*\u001b[39margs, \u001b[38;5;241m*\u001b[39m\u001b[38;5;241m*\u001b[39mkwargs)\n",
      "File \u001b[0;32m~/anaconda3/lib/python3.11/site-packages/torch/nn/modules/module.py:1520\u001b[0m, in \u001b[0;36mModule._call_impl\u001b[0;34m(self, *args, **kwargs)\u001b[0m\n\u001b[1;32m   1515\u001b[0m \u001b[38;5;66;03m# If we don't have any hooks, we want to skip the rest of the logic in\u001b[39;00m\n\u001b[1;32m   1516\u001b[0m \u001b[38;5;66;03m# this function, and just call forward.\u001b[39;00m\n\u001b[1;32m   1517\u001b[0m \u001b[38;5;28;01mif\u001b[39;00m \u001b[38;5;129;01mnot\u001b[39;00m (\u001b[38;5;28mself\u001b[39m\u001b[38;5;241m.\u001b[39m_backward_hooks \u001b[38;5;129;01mor\u001b[39;00m \u001b[38;5;28mself\u001b[39m\u001b[38;5;241m.\u001b[39m_backward_pre_hooks \u001b[38;5;129;01mor\u001b[39;00m \u001b[38;5;28mself\u001b[39m\u001b[38;5;241m.\u001b[39m_forward_hooks \u001b[38;5;129;01mor\u001b[39;00m \u001b[38;5;28mself\u001b[39m\u001b[38;5;241m.\u001b[39m_forward_pre_hooks\n\u001b[1;32m   1518\u001b[0m         \u001b[38;5;129;01mor\u001b[39;00m _global_backward_pre_hooks \u001b[38;5;129;01mor\u001b[39;00m _global_backward_hooks\n\u001b[1;32m   1519\u001b[0m         \u001b[38;5;129;01mor\u001b[39;00m _global_forward_hooks \u001b[38;5;129;01mor\u001b[39;00m _global_forward_pre_hooks):\n\u001b[0;32m-> 1520\u001b[0m     \u001b[38;5;28;01mreturn\u001b[39;00m forward_call(\u001b[38;5;241m*\u001b[39margs, \u001b[38;5;241m*\u001b[39m\u001b[38;5;241m*\u001b[39mkwargs)\n\u001b[1;32m   1522\u001b[0m \u001b[38;5;28;01mtry\u001b[39;00m:\n\u001b[1;32m   1523\u001b[0m     result \u001b[38;5;241m=\u001b[39m \u001b[38;5;28;01mNone\u001b[39;00m\n",
      "File \u001b[0;32m~/anaconda3/lib/python3.11/site-packages/monai/losses/dice.py:785\u001b[0m, in \u001b[0;36mDiceCELoss.forward\u001b[0;34m(self, input, target)\u001b[0m\n\u001b[1;32m    774\u001b[0m \u001b[38;5;250m\u001b[39m\u001b[38;5;124;03m\"\"\"\u001b[39;00m\n\u001b[1;32m    775\u001b[0m \u001b[38;5;124;03mArgs:\u001b[39;00m\n\u001b[1;32m    776\u001b[0m \u001b[38;5;124;03m    input: the shape should be BNH[WD].\u001b[39;00m\n\u001b[0;32m   (...)\u001b[0m\n\u001b[1;32m    782\u001b[0m \n\u001b[1;32m    783\u001b[0m \u001b[38;5;124;03m\"\"\"\u001b[39;00m\n\u001b[1;32m    784\u001b[0m \u001b[38;5;28;01mif\u001b[39;00m \u001b[38;5;28mlen\u001b[39m(\u001b[38;5;28minput\u001b[39m\u001b[38;5;241m.\u001b[39mshape) \u001b[38;5;241m!=\u001b[39m \u001b[38;5;28mlen\u001b[39m(target\u001b[38;5;241m.\u001b[39mshape):\n\u001b[0;32m--> 785\u001b[0m     \u001b[38;5;28;01mraise\u001b[39;00m \u001b[38;5;167;01mValueError\u001b[39;00m(\n\u001b[1;32m    786\u001b[0m         \u001b[38;5;124m\"\u001b[39m\u001b[38;5;124mthe number of dimensions for input and target should be the same, \u001b[39m\u001b[38;5;124m\"\u001b[39m\n\u001b[1;32m    787\u001b[0m         \u001b[38;5;124mf\u001b[39m\u001b[38;5;124m\"\u001b[39m\u001b[38;5;124mgot shape \u001b[39m\u001b[38;5;132;01m{\u001b[39;00m\u001b[38;5;28minput\u001b[39m\u001b[38;5;241m.\u001b[39mshape\u001b[38;5;132;01m}\u001b[39;00m\u001b[38;5;124m and \u001b[39m\u001b[38;5;132;01m{\u001b[39;00mtarget\u001b[38;5;241m.\u001b[39mshape\u001b[38;5;132;01m}\u001b[39;00m\u001b[38;5;124m.\u001b[39m\u001b[38;5;124m\"\u001b[39m\n\u001b[1;32m    788\u001b[0m     )\n\u001b[1;32m    790\u001b[0m dice_loss \u001b[38;5;241m=\u001b[39m \u001b[38;5;28mself\u001b[39m\u001b[38;5;241m.\u001b[39mdice(\u001b[38;5;28minput\u001b[39m, target)\n\u001b[1;32m    791\u001b[0m ce_loss \u001b[38;5;241m=\u001b[39m \u001b[38;5;28mself\u001b[39m\u001b[38;5;241m.\u001b[39mce(\u001b[38;5;28minput\u001b[39m, target) \u001b[38;5;28;01mif\u001b[39;00m \u001b[38;5;28minput\u001b[39m\u001b[38;5;241m.\u001b[39mshape[\u001b[38;5;241m1\u001b[39m] \u001b[38;5;241m!=\u001b[39m \u001b[38;5;241m1\u001b[39m \u001b[38;5;28;01melse\u001b[39;00m \u001b[38;5;28mself\u001b[39m\u001b[38;5;241m.\u001b[39mbce(\u001b[38;5;28minput\u001b[39m, target)\n",
      "\u001b[0;31mValueError\u001b[0m: the number of dimensions for input and target should be the same, got shape torch.Size([2, 1, 256, 256]) and torch.Size([2, 1, 256, 256, 3])."
     ]
    }
   ],
   "source": [
    "\n",
    "from tqdm import tqdm\n",
    "from statistics import mean\n",
    "import torch\n",
    "from torch.nn.functional import threshold, normalize\n",
    "\n",
    "#Training loop\n",
    "num_epochs = 1\n",
    "\n",
    "device = \"cuda\" if torch.cuda.is_available() else \"cpu\"\n",
    "model.to(device)\n",
    "\n",
    "model.train()\n",
    "for epoch in range(num_epochs):\n",
    "    print(\"Epoch 1 start!\")\n",
    "    epoch_losses = []\n",
    "    for batch in tqdm(train_dataloader):\n",
    "      # forward pass\n",
    "        outputs = model(pixel_values=batch[\"pixel_values\"].to(device),\n",
    "                      input_boxes=batch[\"input_boxes\"].to(device),\n",
    "                      multimask_output=False)\n",
    "\n",
    "      # compute loss\n",
    "        predicted_masks = outputs.pred_masks.squeeze(1)\n",
    "        ground_truth_masks = batch[\"ground_truth_mask\"].float().to(device)\n",
    "        loss = seg_loss(predicted_masks, ground_truth_masks.unsqueeze(1))\n",
    "\n",
    "      # backward pass (compute gradients of parameters w.r.t. loss)\n",
    "        optimizer.zero_grad()\n",
    "        loss.backward()\n",
    "\n",
    "      # optimize\n",
    "        optimizer.step()\n",
    "        epoch_losses.append(loss.item())\n",
    "\n",
    "    print(f'EPOCH: {epoch}')\n",
    "    print(f'Mean loss: {mean(epoch_losses)}')"
   ]
  }
 ],
 "metadata": {
  "kernelspec": {
   "display_name": "Python 3 (ipykernel)",
   "language": "python",
   "name": "python3"
  },
  "language_info": {
   "codemirror_mode": {
    "name": "ipython",
    "version": 3
   },
   "file_extension": ".py",
   "mimetype": "text/x-python",
   "name": "python",
   "nbconvert_exporter": "python",
   "pygments_lexer": "ipython3",
   "version": "3.11.5"
  }
 },
 "nbformat": 4,
 "nbformat_minor": 5
}
