{
 "cells": [
  {
   "cell_type": "markdown",
   "source": [
    "Learned from a similar problem solved here: https://youtu.be/83tnWs_YBRQ?feature=shared\n",
    "Video above took inspiration from this:  https://github.com/NielsRogge/Transformers-Tutorials/blob/master/SAM/Fine_tune_SAM_(segment_anything)_on_a_custom_dataset.ipynb\n"
   ],
   "metadata": {
    "collapsed": false
   },
   "id": "7ed109e01e75c988"
  },
  {
   "cell_type": "code",
   "outputs": [],
   "source": [
    "# Install the required libraries\n",
    "#SAM\n",
    "!pip install git+https://github.com/facebookresearch/segment-anything.git\n",
    "#Transformers\n",
    "!pip install -q git+https://github.com/huggingface/transformers.git\n",
    "#Datasets to prepare data and monai if you want to use special loss functions\n",
    "!pip install datasets\n",
    "!pip install -q monai\n",
    "#Patchify to divide large images into smaller patches for training. (Not necessary for smaller images)\n",
    "!pip install patchify\n",
    "\n",
    "!pip install matplotlib\n",
    "\n",
    "!pip install tifffile\n",
    "\n",
    "!pip install scipy\n"
   ],
   "metadata": {
    "is_executing": true
   },
   "id": "fbbd25b4",
   "execution_count": null
  },
  {
   "cell_type": "code",
   "outputs": [],
   "source": [
    "#Numpy for handling data in vectors, matplotlib to graph\n",
    "import numpy as np\n",
    "import matplotlib.pyplot as plt\n",
    "#Library to work with TIFFs\n",
    "import tifffile\n",
    "\n",
    "#Importing OS for \n",
    "import os\n",
    "#We are going to work with large images and patchify helps with dividing it up\n",
    "import patchify \n",
    "import scipy\n",
    "from scipy import ndimage"
   ],
   "metadata": {
    "collapsed": false,
    "is_executing": true
   },
   "id": "21c3383911294521",
   "execution_count": null
  },
  {
   "cell_type": "code",
   "outputs": [],
   "source": [],
   "metadata": {
    "collapsed": false
   },
   "id": "3e03909e4e7d5de8"
  }
 ],
 "metadata": {
  "kernelspec": {
   "display_name": "Python 3 (ipykernel)",
   "language": "python",
   "name": "python3"
  },
  "language_info": {
   "codemirror_mode": {
    "name": "ipython",
    "version": 3
   },
   "file_extension": ".py",
   "mimetype": "text/x-python",
   "name": "python",
   "nbconvert_exporter": "python",
   "pygments_lexer": "ipython3",
   "version": "3.11.5"
  }
 },
 "nbformat": 4,
 "nbformat_minor": 5
}
