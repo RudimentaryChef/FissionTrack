{
 "cells": [
  {
   "cell_type": "code",
   "execution_count": 1,
   "id": "fbbd25b4",
   "metadata": {
    "ExecuteTime": {
     "end_time": "2024-02-19T23:38:08.994406Z",
     "start_time": "2024-02-19T23:38:08.988822Z"
    }
   },
   "outputs": [
    {
     "name": "stdout",
     "output_type": "stream",
     "text": [
      "hi\n"
     ]
    }
   ],
   "source": [
    "print(\"hi\")"
   ]
  },
  {
   "cell_type": "code",
   "outputs": [],
   "source": [],
   "metadata": {
    "collapsed": false,
    "ExecuteTime": {
     "end_time": "2024-02-19T23:36:57.778816Z",
     "start_time": "2024-02-19T23:36:57.768309Z"
    }
   },
   "id": "21c3383911294521",
   "execution_count": 0
  },
  {
   "cell_type": "code",
   "outputs": [],
   "source": [],
   "metadata": {
    "collapsed": false
   },
   "id": "3e03909e4e7d5de8"
  }
 ],
 "metadata": {
  "kernelspec": {
   "display_name": "Python 3 (ipykernel)",
   "language": "python",
   "name": "python3"
  },
  "language_info": {
   "codemirror_mode": {
    "name": "ipython",
    "version": 3
   },
   "file_extension": ".py",
   "mimetype": "text/x-python",
   "name": "python",
   "nbconvert_exporter": "python",
   "pygments_lexer": "ipython3",
   "version": "3.11.5"
  }
 },
 "nbformat": 4,
 "nbformat_minor": 5
}
